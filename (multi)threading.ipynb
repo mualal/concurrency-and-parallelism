{
 "cells": [
  {
   "cell_type": "code",
   "execution_count": 1,
   "metadata": {},
   "outputs": [
    {
     "name": "stdout",
     "output_type": "stream",
     "text": [
      "Инициализация потока: TRAIN7\n",
      "Задача 0 запущена\n",
      "Инициализация потока: NLP340\n",
      "Задача 1 запущена\n",
      "Инициализация потока: FRAME1\n",
      "Задача 2 запущена\n",
      "Инициализация потока: SHY7H\n",
      "Задача 3 запущена\n",
      "Инициализация потока: HHGF5\n",
      "Задача 4 запущена\n",
      "Задача 0 выполненаЗадача 1 выполнена\n",
      "\n",
      "Задача 2 выполнена\n",
      "Задача 4 выполнена\n",
      "Задача 3 выполнена\n"
     ]
    }
   ],
   "source": [
    "import random\n",
    "from concurrent.futures import ThreadPoolExecutor\n",
    "from time import sleep\n",
    "\n",
    "\n",
    "def get_unique_thread_id():\n",
    "    unique_thread_ids = ['NLP340',\n",
    "                         'SHY7H',\n",
    "                         'FRAME1',\n",
    "                         'TRAIN7',\n",
    "                         'WWEQN',\n",
    "                         'WWDC',\n",
    "                         'AFLT17',\n",
    "                         'LNZLP',\n",
    "                         'DICT4',\n",
    "                         'HHGF5']\n",
    "    # возврат уникального значения из списка unique_thread_ids при обращении к функции\n",
    "    while unique_thread_ids:\n",
    "        cur_choice = random.choice(unique_thread_ids)\n",
    "        yield cur_choice\n",
    "        unique_thread_ids.remove(cur_choice)\n",
    "\n",
    "\n",
    "unique_generator = get_unique_thread_id()\n",
    "\n",
    "\n",
    "# функция инициализации потока\n",
    "def thread_initializer():\n",
    "    print(f'Инициализация потока: {next(unique_generator)}')\n",
    "\n",
    "\n",
    "# симуляция выполнения задачи\n",
    "def thread_task(num):\n",
    "    print(f'Задача {num} запущена')\n",
    "    sleep(1)\n",
    "    print(f'Задача {num} выполнена')\n",
    "\n",
    "\n",
    "# создание пула потоков с инициализацией потоков и их запуском\n",
    "with ThreadPoolExecutor(max_workers=5, initializer=thread_initializer) as executor:\n",
    "    futures = []\n",
    "    for task in range(5):\n",
    "        futures.append(executor.submit(thread_task, task))\n",
    "    for future in futures:\n",
    "        future.result()"
   ]
  },
  {
   "cell_type": "code",
   "execution_count": null,
   "metadata": {},
   "outputs": [],
   "source": []
  }
 ],
 "metadata": {
  "kernelspec": {
   "display_name": "notebooks-source-env",
   "language": "python",
   "name": "python3"
  },
  "language_info": {
   "codemirror_mode": {
    "name": "ipython",
    "version": 3
   },
   "file_extension": ".py",
   "mimetype": "text/x-python",
   "name": "python",
   "nbconvert_exporter": "python",
   "pygments_lexer": "ipython3",
   "version": "3.10.9"
  },
  "orig_nbformat": 4
 },
 "nbformat": 4,
 "nbformat_minor": 2
}
